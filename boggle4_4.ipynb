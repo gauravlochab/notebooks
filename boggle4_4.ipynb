{
  "nbformat": 4,
  "nbformat_minor": 0,
  "metadata": {
    "colab": {
      "provenance": [],
      "authorship_tag": "ABX9TyOQkT378je5Mk0CK6L1t0W4",
      "include_colab_link": true
    },
    "kernelspec": {
      "name": "python3",
      "display_name": "Python 3"
    },
    "language_info": {
      "name": "python"
    }
  },
  "cells": [
    {
      "cell_type": "markdown",
      "metadata": {
        "id": "view-in-github",
        "colab_type": "text"
      },
      "source": [
        "<a href=\"https://colab.research.google.com/github/gauravlochab/notebooks/blob/main/boggle4_4.ipynb\" target=\"_parent\"><img src=\"https://colab.research.google.com/assets/colab-badge.svg\" alt=\"Open In Colab\"/></a>"
      ]
    },
    {
      "cell_type": "code",
      "source": [
        "#Problem statement\n",
        "#Boggle4x4 grid of random letters1. you can start from any location2. \n",
        "#you can only move to adjacent or diagonal locations to spell words out3. \n",
        "#you can't reuse a location in the same word\n"
      ],
      "metadata": {
        "id": "5usZm4pT1-dc"
      },
      "execution_count": 1,
      "outputs": []
    },
    {
      "cell_type": "code",
      "source": [
        "#dictionary or test cases\n",
        "dictionary = [\"ATL\", \"CGLA\",\"DANCE\",\"BTEH\",\"SELA\"]\n",
        "#given boggle\n",
        "boggle     = [[\"A\", \"B\", \"S\",\"T\"], [\"O\", \"T\", \"E\",\"H\"], [\"C\", \"G\", \"L\",\"A\"],[\"C\",\"U\",\"T\",\"S\"]]"
      ],
      "metadata": {
        "id": "0Wx7NeUX0g1M"
      },
      "execution_count": 10,
      "outputs": []
    },
    {
      "cell_type": "code",
      "source": [
        "#explaination\n",
        "#performing DFS in each of the 8 given directions till we find a word that is in the dict through the defined traversal conditions \n",
        "#DFS keeps iterating through the graph vertically until it reaches the root node"
      ],
      "metadata": {
        "id": "2QkUhpGz39yy"
      },
      "execution_count": 11,
      "outputs": []
    },
    {
      "cell_type": "code",
      "source": [
        "\n",
        "def dfs(board, s,i,j,n,m,idx):\n",
        "    #checking edge cases \n",
        "    if i<0 or i>=n or j < 0 or j>=m:\n",
        "        return False\n",
        "    if s[idx]!= board[i][j]:\n",
        "        return False\n",
        "    if idx == len(s)-1:\n",
        "        return True\n",
        "    \n",
        "    temp        = board[i][j]\n",
        "    board[i][j] = '*'\n",
        "    \n",
        "    a = dfs(board,s,i,j+1,n,m,idx+1) #condition for adjacent\n",
        "    b = dfs(board,s,i,j-1,n,m,idx+1) #condition for adjacent\n",
        "    c = dfs(board,s,i+1,j,n,m,idx+1) #condition for adjacent\n",
        "    d = dfs(board,s,i-1,j,n,m,idx+1) #condition for adjacent\n",
        "    e = dfs(board,s,i+1,j+1,n,m,idx+1) #condition for diagonal\n",
        "    f = dfs(board,s,i-1,j+1,n,m,idx+1) #condition for diagonal\n",
        "    g = dfs(board,s,i+1,j-1,n,m,idx+1) #condition for diagonal\n",
        "    h = dfs(board,s,i-1,j-1,n,m,idx+1) #condition for diagonal\n",
        "    print(board)\n",
        "    board[i][j]=temp;\n",
        "    \n",
        "    #returning true if word found in any direction in 8 directions \n",
        "    return a or b or c or e or f or g or h or d"
      ],
      "metadata": {
        "id": "l-Fkk6lRv02S"
      },
      "execution_count": 14,
      "outputs": []
    },
    {
      "cell_type": "code",
      "source": [
        "def checkWord(board, word):\n",
        "    n = len(boggle)\n",
        "    m = len(boggle[0])\n",
        "    #iterating through all rows and columns and starting with their first character\n",
        "    for i in range(n):\n",
        "        for j in range(m):\n",
        "            #zero index representing first char\n",
        "            if dfs(board,word,i,j,n,m,0):\n",
        "                return True\n",
        "    return False\n",
        "\n",
        "for word in dictionary:\n",
        "    if checkWord(boggle, word):\n",
        "        print(word , \" word can be created from given boggle\")\n",
        "    else:\n",
        "        print(word , \" word cannot be created from given boggle\")    "
      ],
      "metadata": {
        "colab": {
          "base_uri": "https://localhost:8080/"
        },
        "id": "Gmb3x6Nv0czH",
        "outputId": "31491343-88d5-415a-db4f-4ac3e9879492"
      },
      "execution_count": 15,
      "outputs": [
        {
          "output_type": "stream",
          "name": "stdout",
          "text": [
            "[['*', 'B', 'S', 'T'], ['O', '*', 'E', 'H'], ['C', 'G', 'L', 'A'], ['C', 'U', 'T', 'S']] ++++++\n",
            "[['*', 'B', 'S', 'T'], ['O', '*', 'E', 'H'], ['C', 'G', 'L', 'A'], ['C', 'U', 'T', 'S']]\n",
            "[['*', 'B', 'S', 'T'], ['O', 'T', 'E', 'H'], ['C', 'G', 'L', 'A'], ['C', 'U', 'T', 'S']]\n",
            "ATL  word can be created from given boggle\n",
            "[['A', 'B', 'S', 'T'], ['O', 'T', 'E', 'H'], ['*', '*', '*', 'A'], ['C', 'U', 'T', 'S']] ++++++\n",
            "[['A', 'B', 'S', 'T'], ['O', 'T', 'E', 'H'], ['*', '*', '*', 'A'], ['C', 'U', 'T', 'S']]\n",
            "[['A', 'B', 'S', 'T'], ['O', 'T', 'E', 'H'], ['*', '*', 'L', 'A'], ['C', 'U', 'T', 'S']]\n",
            "[['A', 'B', 'S', 'T'], ['O', 'T', 'E', 'H'], ['*', 'G', 'L', 'A'], ['C', 'U', 'T', 'S']]\n",
            "CGLA  word can be created from given boggle\n",
            "DANCE  word cannot be created from given boggle\n",
            "[['A', '*', 'S', 'T'], ['O', '*', '*', 'H'], ['C', 'G', 'L', 'A'], ['C', 'U', 'T', 'S']] ++++++\n",
            "[['A', '*', 'S', 'T'], ['O', '*', '*', 'H'], ['C', 'G', 'L', 'A'], ['C', 'U', 'T', 'S']]\n",
            "[['A', '*', 'S', 'T'], ['O', '*', 'E', 'H'], ['C', 'G', 'L', 'A'], ['C', 'U', 'T', 'S']]\n",
            "[['A', '*', 'S', 'T'], ['O', 'T', 'E', 'H'], ['C', 'G', 'L', 'A'], ['C', 'U', 'T', 'S']]\n",
            "BTEH  word can be created from given boggle\n",
            "[['A', 'B', '*', 'T'], ['O', 'T', '*', 'H'], ['C', 'G', '*', 'A'], ['C', 'U', 'T', 'S']] ++++++\n",
            "[['A', 'B', '*', 'T'], ['O', 'T', '*', 'H'], ['C', 'G', '*', 'A'], ['C', 'U', 'T', 'S']]\n",
            "[['A', 'B', '*', 'T'], ['O', 'T', '*', 'H'], ['C', 'G', 'L', 'A'], ['C', 'U', 'T', 'S']]\n",
            "[['A', 'B', '*', 'T'], ['O', 'T', 'E', 'H'], ['C', 'G', 'L', 'A'], ['C', 'U', 'T', 'S']]\n",
            "SELA  word can be created from given boggle\n"
          ]
        }
      ]
    },
    {
      "cell_type": "code",
      "source": [],
      "metadata": {
        "id": "xeiQJaWs16dz"
      },
      "execution_count": null,
      "outputs": []
    }
  ]
}